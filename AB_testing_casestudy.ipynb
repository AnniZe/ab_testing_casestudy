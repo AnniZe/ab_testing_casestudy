{
 "cells": [
  {
   "cell_type": "code",
   "execution_count": 1,
   "metadata": {},
   "outputs": [],
   "source": [
    "import pandas as pd\n",
    "import numpy as np\n",
    "from scipy import stats"
   ]
  },
  {
   "cell_type": "code",
   "execution_count": 7,
   "metadata": {},
   "outputs": [],
   "source": [
    "# view options\n",
    "pd.set_option('display.float_format', lambda x: '%.4f' % x)\n",
    "pd.set_option('display.max_rows', 1000)\n",
    "pd.set_option('display.max_colwidth',100)"
   ]
  },
  {
   "cell_type": "markdown",
   "metadata": {},
   "source": [
    "## Hypothesis testing for Eniac-Case Study (Chi-Square Test)"
   ]
  },
  {
   "cell_type": "markdown",
   "metadata": {},
   "source": [
    "### Null Hypothesis (H0) and Alternative Hypothesis (HA)"
   ]
  },
  {
   "cell_type": "markdown",
   "metadata": {},
   "source": [
    "H0 : Click-through rate (CTR) is for all four versions of the website equal\n",
    "\n",
    "HA: Click-through rate (CTR) is for at least one of the versions statistical significant different"
   ]
  },
  {
   "cell_type": "markdown",
   "metadata": {},
   "source": [
    "### Choose significance level (alpha)"
   ]
  },
  {
   "cell_type": "markdown",
   "metadata": {},
   "source": [
    "a relatively high alpha is acceptable in this case"
   ]
  },
  {
   "cell_type": "code",
   "execution_count": 2,
   "metadata": {},
   "outputs": [],
   "source": [
    "alpha = 0.05"
   ]
  },
  {
   "cell_type": "markdown",
   "metadata": {},
   "source": [
    "### Collect data (needs to be random and independent)"
   ]
  },
  {
   "cell_type": "code",
   "execution_count": 3,
   "metadata": {},
   "outputs": [
    {
     "name": "stderr",
     "output_type": "stream",
     "text": [
      "<>:3: SyntaxWarning: invalid escape sequence '\\E'\n",
      "<>:4: SyntaxWarning: invalid escape sequence '\\E'\n",
      "<>:5: SyntaxWarning: invalid escape sequence '\\E'\n",
      "<>:6: SyntaxWarning: invalid escape sequence '\\E'\n",
      "<>:3: SyntaxWarning: invalid escape sequence '\\E'\n",
      "<>:4: SyntaxWarning: invalid escape sequence '\\E'\n",
      "<>:5: SyntaxWarning: invalid escape sequence '\\E'\n",
      "<>:6: SyntaxWarning: invalid escape sequence '\\E'\n",
      "C:\\Users\\anna_\\AppData\\Local\\Temp\\ipykernel_25580\\4193410696.py:3: SyntaxWarning: invalid escape sequence '\\E'\n",
      "  eniac_a = pd.read_csv('04_AB_Testing\\Eniac-ABTest\\eniac_a.csv')\n",
      "C:\\Users\\anna_\\AppData\\Local\\Temp\\ipykernel_25580\\4193410696.py:4: SyntaxWarning: invalid escape sequence '\\E'\n",
      "  eniac_b = pd.read_csv('04_AB_Testing\\Eniac-ABTest\\eniac_b.csv')\n",
      "C:\\Users\\anna_\\AppData\\Local\\Temp\\ipykernel_25580\\4193410696.py:5: SyntaxWarning: invalid escape sequence '\\E'\n",
      "  eniac_c = pd.read_csv('04_AB_Testing\\Eniac-ABTest\\eniac_c.csv')\n",
      "C:\\Users\\anna_\\AppData\\Local\\Temp\\ipykernel_25580\\4193410696.py:6: SyntaxWarning: invalid escape sequence '\\E'\n",
      "  eniac_d = pd.read_csv('04_AB_Testing\\Eniac-ABTest\\eniac_d.csv')\n"
     ]
    }
   ],
   "source": [
    "# load data from csv files\n",
    "\n",
    "eniac_a = pd.read_csv('04_AB_Testing\\Eniac-ABTest\\eniac_a.csv')\n",
    "eniac_b = pd.read_csv('04_AB_Testing\\Eniac-ABTest\\eniac_b.csv')\n",
    "eniac_c = pd.read_csv('04_AB_Testing\\Eniac-ABTest\\eniac_c.csv')\n",
    "eniac_d = pd.read_csv('04_AB_Testing\\Eniac-ABTest\\eniac_d.csv')"
   ]
  },
  {
   "cell_type": "code",
   "execution_count": 8,
   "metadata": {},
   "outputs": [
    {
     "data": {
      "text/html": [
       "<div>\n",
       "<style scoped>\n",
       "    .dataframe tbody tr th:only-of-type {\n",
       "        vertical-align: middle;\n",
       "    }\n",
       "\n",
       "    .dataframe tbody tr th {\n",
       "        vertical-align: top;\n",
       "    }\n",
       "\n",
       "    .dataframe thead th {\n",
       "        text-align: right;\n",
       "    }\n",
       "</style>\n",
       "<table border=\"1\" class=\"dataframe\">\n",
       "  <thead>\n",
       "    <tr style=\"text-align: right;\">\n",
       "      <th></th>\n",
       "      <th>Element ID</th>\n",
       "      <th>Tag name</th>\n",
       "      <th>Name</th>\n",
       "      <th>No. clicks</th>\n",
       "      <th>Visible?</th>\n",
       "      <th>Snapshot information</th>\n",
       "    </tr>\n",
       "  </thead>\n",
       "  <tbody>\n",
       "    <tr>\n",
       "      <th>0</th>\n",
       "      <td>48</td>\n",
       "      <td>h1</td>\n",
       "      <td>ENIAC</td>\n",
       "      <td>269</td>\n",
       "      <td>True</td>\n",
       "      <td>Homepage Version A - white SHOP NOW   •   https://eniac.com/index-a.php</td>\n",
       "    </tr>\n",
       "    <tr>\n",
       "      <th>1</th>\n",
       "      <td>25</td>\n",
       "      <td>div</td>\n",
       "      <td>mySidebar</td>\n",
       "      <td>309</td>\n",
       "      <td>True</td>\n",
       "      <td>created 2021-09-14   •   14 days 0 hours 34 mins   •   25326 visits, 23174 clicks</td>\n",
       "    </tr>\n",
       "    <tr>\n",
       "      <th>2</th>\n",
       "      <td>4</td>\n",
       "      <td>a</td>\n",
       "      <td>Mac</td>\n",
       "      <td>279</td>\n",
       "      <td>True</td>\n",
       "      <td>NaN</td>\n",
       "    </tr>\n",
       "    <tr>\n",
       "      <th>3</th>\n",
       "      <td>69</td>\n",
       "      <td>a</td>\n",
       "      <td>iPhone</td>\n",
       "      <td>246</td>\n",
       "      <td>True</td>\n",
       "      <td>NaN</td>\n",
       "    </tr>\n",
       "    <tr>\n",
       "      <th>4</th>\n",
       "      <td>105</td>\n",
       "      <td>a</td>\n",
       "      <td>Accessories</td>\n",
       "      <td>1235</td>\n",
       "      <td>True</td>\n",
       "      <td>NaN</td>\n",
       "    </tr>\n",
       "    <tr>\n",
       "      <th>5</th>\n",
       "      <td>36</td>\n",
       "      <td>a</td>\n",
       "      <td>Chargers &amp; Cables</td>\n",
       "      <td>1261</td>\n",
       "      <td>False</td>\n",
       "      <td>NaN</td>\n",
       "    </tr>\n",
       "    <tr>\n",
       "      <th>6</th>\n",
       "      <td>99</td>\n",
       "      <td>a</td>\n",
       "      <td>iPhone Accessories</td>\n",
       "      <td>1226</td>\n",
       "      <td>False</td>\n",
       "      <td>NaN</td>\n",
       "    </tr>\n",
       "    <tr>\n",
       "      <th>7</th>\n",
       "      <td>68</td>\n",
       "      <td>a</td>\n",
       "      <td>Watch Accessories</td>\n",
       "      <td>1261</td>\n",
       "      <td>False</td>\n",
       "      <td>NaN</td>\n",
       "    </tr>\n",
       "    <tr>\n",
       "      <th>8</th>\n",
       "      <td>13</td>\n",
       "      <td>a</td>\n",
       "      <td>Mac Accessories</td>\n",
       "      <td>1308</td>\n",
       "      <td>False</td>\n",
       "      <td>NaN</td>\n",
       "    </tr>\n",
       "    <tr>\n",
       "      <th>9</th>\n",
       "      <td>15</td>\n",
       "      <td>a</td>\n",
       "      <td>AirTag</td>\n",
       "      <td>206</td>\n",
       "      <td>False</td>\n",
       "      <td>NaN</td>\n",
       "    </tr>\n",
       "    <tr>\n",
       "      <th>10</th>\n",
       "      <td>9</td>\n",
       "      <td>a</td>\n",
       "      <td>iPad</td>\n",
       "      <td>186</td>\n",
       "      <td>True</td>\n",
       "      <td>NaN</td>\n",
       "    </tr>\n",
       "    <tr>\n",
       "      <th>11</th>\n",
       "      <td>52</td>\n",
       "      <td>a</td>\n",
       "      <td>Watch</td>\n",
       "      <td>212</td>\n",
       "      <td>True</td>\n",
       "      <td>NaN</td>\n",
       "    </tr>\n",
       "    <tr>\n",
       "      <th>12</th>\n",
       "      <td>33</td>\n",
       "      <td>a</td>\n",
       "      <td>Storage</td>\n",
       "      <td>198</td>\n",
       "      <td>True</td>\n",
       "      <td>NaN</td>\n",
       "    </tr>\n",
       "    <tr>\n",
       "      <th>13</th>\n",
       "      <td>90</td>\n",
       "      <td>a</td>\n",
       "      <td>Services</td>\n",
       "      <td>177</td>\n",
       "      <td>True</td>\n",
       "      <td>NaN</td>\n",
       "    </tr>\n",
       "    <tr>\n",
       "      <th>14</th>\n",
       "      <td>59</td>\n",
       "      <td>a</td>\n",
       "      <td>Contact</td>\n",
       "      <td>266</td>\n",
       "      <td>True</td>\n",
       "      <td>NaN</td>\n",
       "    </tr>\n",
       "    <tr>\n",
       "      <th>15</th>\n",
       "      <td>17</td>\n",
       "      <td>a</td>\n",
       "      <td>Newsletter</td>\n",
       "      <td>56</td>\n",
       "      <td>True</td>\n",
       "      <td>NaN</td>\n",
       "    </tr>\n",
       "    <tr>\n",
       "      <th>16</th>\n",
       "      <td>74</td>\n",
       "      <td>a</td>\n",
       "      <td>Subscribe</td>\n",
       "      <td>56</td>\n",
       "      <td>True</td>\n",
       "      <td>NaN</td>\n",
       "    </tr>\n",
       "    <tr>\n",
       "      <th>17</th>\n",
       "      <td>18</td>\n",
       "      <td>div</td>\n",
       "      <td>w3-padding-64</td>\n",
       "      <td>324</td>\n",
       "      <td>True</td>\n",
       "      <td>NaN</td>\n",
       "    </tr>\n",
       "    <tr>\n",
       "      <th>18</th>\n",
       "      <td>88</td>\n",
       "      <td>div</td>\n",
       "      <td>w3-display-container</td>\n",
       "      <td>312</td>\n",
       "      <td>True</td>\n",
       "      <td>NaN</td>\n",
       "    </tr>\n",
       "    <tr>\n",
       "      <th>19</th>\n",
       "      <td>76</td>\n",
       "      <td>img</td>\n",
       "      <td>Jeans</td>\n",
       "      <td>924</td>\n",
       "      <td>True</td>\n",
       "      <td>NaN</td>\n",
       "    </tr>\n",
       "    <tr>\n",
       "      <th>20</th>\n",
       "      <td>20</td>\n",
       "      <td>div</td>\n",
       "      <td>w3-display-topleft</td>\n",
       "      <td>327</td>\n",
       "      <td>True</td>\n",
       "      <td>NaN</td>\n",
       "    </tr>\n",
       "    <tr>\n",
       "      <th>21</th>\n",
       "      <td>106</td>\n",
       "      <td>a</td>\n",
       "      <td>SHOP NOW</td>\n",
       "      <td>512</td>\n",
       "      <td>True</td>\n",
       "      <td>NaN</td>\n",
       "    </tr>\n",
       "    <tr>\n",
       "      <th>22</th>\n",
       "      <td>72</td>\n",
       "      <td>img</td>\n",
       "      <td>iphone13_cover</td>\n",
       "      <td>877</td>\n",
       "      <td>True</td>\n",
       "      <td>NaN</td>\n",
       "    </tr>\n",
       "    <tr>\n",
       "      <th>23</th>\n",
       "      <td>46</td>\n",
       "      <td>img</td>\n",
       "      <td>abstract-case</td>\n",
       "      <td>912</td>\n",
       "      <td>True</td>\n",
       "      <td>NaN</td>\n",
       "    </tr>\n",
       "    <tr>\n",
       "      <th>24</th>\n",
       "      <td>6</td>\n",
       "      <td>img</td>\n",
       "      <td>airpods</td>\n",
       "      <td>921</td>\n",
       "      <td>True</td>\n",
       "      <td>NaN</td>\n",
       "    </tr>\n",
       "    <tr>\n",
       "      <th>25</th>\n",
       "      <td>16</td>\n",
       "      <td>img</td>\n",
       "      <td>watch-lgtb</td>\n",
       "      <td>843</td>\n",
       "      <td>True</td>\n",
       "      <td>NaN</td>\n",
       "    </tr>\n",
       "    <tr>\n",
       "      <th>26</th>\n",
       "      <td>30</td>\n",
       "      <td>img</td>\n",
       "      <td>blue-strap</td>\n",
       "      <td>852</td>\n",
       "      <td>True</td>\n",
       "      <td>NaN</td>\n",
       "    </tr>\n",
       "    <tr>\n",
       "      <th>27</th>\n",
       "      <td>108</td>\n",
       "      <td>img</td>\n",
       "      <td>cartoon-case</td>\n",
       "      <td>903</td>\n",
       "      <td>True</td>\n",
       "      <td>NaN</td>\n",
       "    </tr>\n",
       "    <tr>\n",
       "      <th>28</th>\n",
       "      <td>117</td>\n",
       "      <td>img</td>\n",
       "      <td>hermes-case</td>\n",
       "      <td>912</td>\n",
       "      <td>True</td>\n",
       "      <td>NaN</td>\n",
       "    </tr>\n",
       "    <tr>\n",
       "      <th>29</th>\n",
       "      <td>111</td>\n",
       "      <td>img</td>\n",
       "      <td>leopard-case</td>\n",
       "      <td>874</td>\n",
       "      <td>True</td>\n",
       "      <td>NaN</td>\n",
       "    </tr>\n",
       "    <tr>\n",
       "      <th>30</th>\n",
       "      <td>125</td>\n",
       "      <td>img</td>\n",
       "      <td>magnetic-case</td>\n",
       "      <td>849</td>\n",
       "      <td>True</td>\n",
       "      <td>NaN</td>\n",
       "    </tr>\n",
       "    <tr>\n",
       "      <th>31</th>\n",
       "      <td>103</td>\n",
       "      <td>input</td>\n",
       "      <td>Enter e-mail</td>\n",
       "      <td>209</td>\n",
       "      <td>True</td>\n",
       "      <td>NaN</td>\n",
       "    </tr>\n",
       "    <tr>\n",
       "      <th>32</th>\n",
       "      <td>39</td>\n",
       "      <td>button</td>\n",
       "      <td>Subscribe</td>\n",
       "      <td>54</td>\n",
       "      <td>True</td>\n",
       "      <td>NaN</td>\n",
       "    </tr>\n",
       "    <tr>\n",
       "      <th>33</th>\n",
       "      <td>7</td>\n",
       "      <td>div</td>\n",
       "      <td>w3-input</td>\n",
       "      <td>291</td>\n",
       "      <td>True</td>\n",
       "      <td>NaN</td>\n",
       "    </tr>\n",
       "    <tr>\n",
       "      <th>34</th>\n",
       "      <td>81</td>\n",
       "      <td>h4</td>\n",
       "      <td>Contact</td>\n",
       "      <td>298</td>\n",
       "      <td>True</td>\n",
       "      <td>NaN</td>\n",
       "    </tr>\n",
       "    <tr>\n",
       "      <th>35</th>\n",
       "      <td>82</td>\n",
       "      <td>input</td>\n",
       "      <td>Name</td>\n",
       "      <td>214</td>\n",
       "      <td>True</td>\n",
       "      <td>NaN</td>\n",
       "    </tr>\n",
       "    <tr>\n",
       "      <th>36</th>\n",
       "      <td>120</td>\n",
       "      <td>input</td>\n",
       "      <td>Email</td>\n",
       "      <td>208</td>\n",
       "      <td>True</td>\n",
       "      <td>NaN</td>\n",
       "    </tr>\n",
       "    <tr>\n",
       "      <th>37</th>\n",
       "      <td>119</td>\n",
       "      <td>input</td>\n",
       "      <td>Subject</td>\n",
       "      <td>201</td>\n",
       "      <td>True</td>\n",
       "      <td>NaN</td>\n",
       "    </tr>\n",
       "    <tr>\n",
       "      <th>38</th>\n",
       "      <td>32</td>\n",
       "      <td>input</td>\n",
       "      <td>Message</td>\n",
       "      <td>195</td>\n",
       "      <td>True</td>\n",
       "      <td>NaN</td>\n",
       "    </tr>\n",
       "    <tr>\n",
       "      <th>39</th>\n",
       "      <td>73</td>\n",
       "      <td>button</td>\n",
       "      <td>Send</td>\n",
       "      <td>188</td>\n",
       "      <td>True</td>\n",
       "      <td>NaN</td>\n",
       "    </tr>\n",
       "    <tr>\n",
       "      <th>40</th>\n",
       "      <td>67</td>\n",
       "      <td>a</td>\n",
       "      <td>About us</td>\n",
       "      <td>28</td>\n",
       "      <td>True</td>\n",
       "      <td>NaN</td>\n",
       "    </tr>\n",
       "    <tr>\n",
       "      <th>41</th>\n",
       "      <td>54</td>\n",
       "      <td>a</td>\n",
       "      <td>We're hiring</td>\n",
       "      <td>41</td>\n",
       "      <td>True</td>\n",
       "      <td>NaN</td>\n",
       "    </tr>\n",
       "    <tr>\n",
       "      <th>42</th>\n",
       "      <td>84</td>\n",
       "      <td>a</td>\n",
       "      <td>Support</td>\n",
       "      <td>48</td>\n",
       "      <td>True</td>\n",
       "      <td>NaN</td>\n",
       "    </tr>\n",
       "    <tr>\n",
       "      <th>43</th>\n",
       "      <td>34</td>\n",
       "      <td>a</td>\n",
       "      <td>Find store</td>\n",
       "      <td>39</td>\n",
       "      <td>True</td>\n",
       "      <td>NaN</td>\n",
       "    </tr>\n",
       "    <tr>\n",
       "      <th>44</th>\n",
       "      <td>27</td>\n",
       "      <td>a</td>\n",
       "      <td>Shipment</td>\n",
       "      <td>52</td>\n",
       "      <td>True</td>\n",
       "      <td>NaN</td>\n",
       "    </tr>\n",
       "    <tr>\n",
       "      <th>45</th>\n",
       "      <td>21</td>\n",
       "      <td>a</td>\n",
       "      <td>Payment</td>\n",
       "      <td>32</td>\n",
       "      <td>True</td>\n",
       "      <td>NaN</td>\n",
       "    </tr>\n",
       "    <tr>\n",
       "      <th>46</th>\n",
       "      <td>64</td>\n",
       "      <td>a</td>\n",
       "      <td>Gift card</td>\n",
       "      <td>41</td>\n",
       "      <td>True</td>\n",
       "      <td>NaN</td>\n",
       "    </tr>\n",
       "    <tr>\n",
       "      <th>47</th>\n",
       "      <td>113</td>\n",
       "      <td>a</td>\n",
       "      <td>Return</td>\n",
       "      <td>42</td>\n",
       "      <td>True</td>\n",
       "      <td>NaN</td>\n",
       "    </tr>\n",
       "    <tr>\n",
       "      <th>48</th>\n",
       "      <td>53</td>\n",
       "      <td>a</td>\n",
       "      <td>Help</td>\n",
       "      <td>43</td>\n",
       "      <td>True</td>\n",
       "      <td>NaN</td>\n",
       "    </tr>\n",
       "    <tr>\n",
       "      <th>49</th>\n",
       "      <td>60</td>\n",
       "      <td>a</td>\n",
       "      <td>telphone-contact</td>\n",
       "      <td>105</td>\n",
       "      <td>True</td>\n",
       "      <td>NaN</td>\n",
       "    </tr>\n",
       "    <tr>\n",
       "      <th>50</th>\n",
       "      <td>71</td>\n",
       "      <td>a</td>\n",
       "      <td>email-contact</td>\n",
       "      <td>112</td>\n",
       "      <td>True</td>\n",
       "      <td>NaN</td>\n",
       "    </tr>\n",
       "    <tr>\n",
       "      <th>51</th>\n",
       "      <td>8</td>\n",
       "      <td>a</td>\n",
       "      <td>Facebook</td>\n",
       "      <td>278</td>\n",
       "      <td>True</td>\n",
       "      <td>NaN</td>\n",
       "    </tr>\n",
       "    <tr>\n",
       "      <th>52</th>\n",
       "      <td>96</td>\n",
       "      <td>a</td>\n",
       "      <td>Instagram</td>\n",
       "      <td>247</td>\n",
       "      <td>True</td>\n",
       "      <td>NaN</td>\n",
       "    </tr>\n",
       "    <tr>\n",
       "      <th>53</th>\n",
       "      <td>114</td>\n",
       "      <td>a</td>\n",
       "      <td>Snapchat</td>\n",
       "      <td>289</td>\n",
       "      <td>True</td>\n",
       "      <td>NaN</td>\n",
       "    </tr>\n",
       "    <tr>\n",
       "      <th>54</th>\n",
       "      <td>40</td>\n",
       "      <td>a</td>\n",
       "      <td>Pinterest</td>\n",
       "      <td>276</td>\n",
       "      <td>True</td>\n",
       "      <td>NaN</td>\n",
       "    </tr>\n",
       "    <tr>\n",
       "      <th>55</th>\n",
       "      <td>26</td>\n",
       "      <td>a</td>\n",
       "      <td>Twitter</td>\n",
       "      <td>266</td>\n",
       "      <td>True</td>\n",
       "      <td>NaN</td>\n",
       "    </tr>\n",
       "    <tr>\n",
       "      <th>56</th>\n",
       "      <td>98</td>\n",
       "      <td>a</td>\n",
       "      <td>LinkedIn</td>\n",
       "      <td>284</td>\n",
       "      <td>True</td>\n",
       "      <td>NaN</td>\n",
       "    </tr>\n",
       "  </tbody>\n",
       "</table>\n",
       "</div>"
      ],
      "text/plain": [
       "    Element ID Tag name                  Name  No. clicks  Visible?  \\\n",
       "0           48       h1                 ENIAC         269      True   \n",
       "1           25      div             mySidebar         309      True   \n",
       "2            4        a                   Mac         279      True   \n",
       "3           69        a                iPhone         246      True   \n",
       "4          105        a           Accessories        1235      True   \n",
       "5           36        a     Chargers & Cables        1261     False   \n",
       "6           99        a    iPhone Accessories        1226     False   \n",
       "7           68        a     Watch Accessories        1261     False   \n",
       "8           13        a       Mac Accessories        1308     False   \n",
       "9           15        a                AirTag         206     False   \n",
       "10           9        a                  iPad         186      True   \n",
       "11          52        a                 Watch         212      True   \n",
       "12          33        a               Storage         198      True   \n",
       "13          90        a              Services         177      True   \n",
       "14          59        a               Contact         266      True   \n",
       "15          17        a            Newsletter          56      True   \n",
       "16          74        a             Subscribe          56      True   \n",
       "17          18      div         w3-padding-64         324      True   \n",
       "18          88      div  w3-display-container         312      True   \n",
       "19          76      img                 Jeans         924      True   \n",
       "20          20      div    w3-display-topleft         327      True   \n",
       "21         106        a              SHOP NOW         512      True   \n",
       "22          72      img        iphone13_cover         877      True   \n",
       "23          46      img         abstract-case         912      True   \n",
       "24           6      img               airpods         921      True   \n",
       "25          16      img            watch-lgtb         843      True   \n",
       "26          30      img            blue-strap         852      True   \n",
       "27         108      img          cartoon-case         903      True   \n",
       "28         117      img           hermes-case         912      True   \n",
       "29         111      img          leopard-case         874      True   \n",
       "30         125      img         magnetic-case         849      True   \n",
       "31         103    input          Enter e-mail         209      True   \n",
       "32          39   button             Subscribe          54      True   \n",
       "33           7      div              w3-input         291      True   \n",
       "34          81       h4               Contact         298      True   \n",
       "35          82    input                  Name         214      True   \n",
       "36         120    input                 Email         208      True   \n",
       "37         119    input               Subject         201      True   \n",
       "38          32    input               Message         195      True   \n",
       "39          73   button                  Send         188      True   \n",
       "40          67        a              About us          28      True   \n",
       "41          54        a          We're hiring          41      True   \n",
       "42          84        a               Support          48      True   \n",
       "43          34        a            Find store          39      True   \n",
       "44          27        a              Shipment          52      True   \n",
       "45          21        a               Payment          32      True   \n",
       "46          64        a             Gift card          41      True   \n",
       "47         113        a                Return          42      True   \n",
       "48          53        a                  Help          43      True   \n",
       "49          60        a      telphone-contact         105      True   \n",
       "50          71        a         email-contact         112      True   \n",
       "51           8        a              Facebook         278      True   \n",
       "52          96        a             Instagram         247      True   \n",
       "53         114        a              Snapchat         289      True   \n",
       "54          40        a             Pinterest         276      True   \n",
       "55          26        a               Twitter         266      True   \n",
       "56          98        a              LinkedIn         284      True   \n",
       "\n",
       "                                                                 Snapshot information  \n",
       "0             Homepage Version A - white SHOP NOW   •   https://eniac.com/index-a.php  \n",
       "1   created 2021-09-14   •   14 days 0 hours 34 mins   •   25326 visits, 23174 clicks  \n",
       "2                                                                                 NaN  \n",
       "3                                                                                 NaN  \n",
       "4                                                                                 NaN  \n",
       "5                                                                                 NaN  \n",
       "6                                                                                 NaN  \n",
       "7                                                                                 NaN  \n",
       "8                                                                                 NaN  \n",
       "9                                                                                 NaN  \n",
       "10                                                                                NaN  \n",
       "11                                                                                NaN  \n",
       "12                                                                                NaN  \n",
       "13                                                                                NaN  \n",
       "14                                                                                NaN  \n",
       "15                                                                                NaN  \n",
       "16                                                                                NaN  \n",
       "17                                                                                NaN  \n",
       "18                                                                                NaN  \n",
       "19                                                                                NaN  \n",
       "20                                                                                NaN  \n",
       "21                                                                                NaN  \n",
       "22                                                                                NaN  \n",
       "23                                                                                NaN  \n",
       "24                                                                                NaN  \n",
       "25                                                                                NaN  \n",
       "26                                                                                NaN  \n",
       "27                                                                                NaN  \n",
       "28                                                                                NaN  \n",
       "29                                                                                NaN  \n",
       "30                                                                                NaN  \n",
       "31                                                                                NaN  \n",
       "32                                                                                NaN  \n",
       "33                                                                                NaN  \n",
       "34                                                                                NaN  \n",
       "35                                                                                NaN  \n",
       "36                                                                                NaN  \n",
       "37                                                                                NaN  \n",
       "38                                                                                NaN  \n",
       "39                                                                                NaN  \n",
       "40                                                                                NaN  \n",
       "41                                                                                NaN  \n",
       "42                                                                                NaN  \n",
       "43                                                                                NaN  \n",
       "44                                                                                NaN  \n",
       "45                                                                                NaN  \n",
       "46                                                                                NaN  \n",
       "47                                                                                NaN  \n",
       "48                                                                                NaN  \n",
       "49                                                                                NaN  \n",
       "50                                                                                NaN  \n",
       "51                                                                                NaN  \n",
       "52                                                                                NaN  \n",
       "53                                                                                NaN  \n",
       "54                                                                                NaN  \n",
       "55                                                                                NaN  \n",
       "56                                                                                NaN  "
      ]
     },
     "execution_count": 8,
     "metadata": {},
     "output_type": "execute_result"
    }
   ],
   "source": [
    "eniac_a"
   ]
  },
  {
   "cell_type": "markdown",
   "metadata": {},
   "source": [
    "### Get data for contingency table & look at CTRs for differenct versions"
   ]
  },
  {
   "cell_type": "code",
   "execution_count": 6,
   "metadata": {},
   "outputs": [],
   "source": [
    "# number of clicks\n",
    "button_a = eniac_a.loc[eniac_a['Name'] == 'SHOP NOW','No. clicks'].values[0]\n",
    "button_b = eniac_b.loc[eniac_b['Name'] == 'SHOP NOW','No. clicks'].values[0]\n",
    "button_c = eniac_c.loc[eniac_c['Name'] == 'SEE DEALS','No. clicks'].values[0]\n",
    "button_d = eniac_d.loc[eniac_d['Name'] == 'SEE DEALS','No. clicks'].values[0]"
   ]
  },
  {
   "cell_type": "code",
   "execution_count": 9,
   "metadata": {},
   "outputs": [],
   "source": [
    "# number of no clicks\n",
    "\n",
    "# total clicks from info of each version\n",
    "eniac_a_visits = 25326\n",
    "eniac_b_visits = 24747\n",
    "eniac_c_visits = 24876\n",
    "eniac_d_visits = 25233\n",
    "\n",
    "#no clicks = total clicks- number of clicks\n",
    "eniac_a_no_click = eniac_a_visits - button_a\n",
    "eniac_b_no_click = eniac_b_visits - button_b\n",
    "eniac_c_no_click = eniac_c_visits - button_c\n",
    "eniac_d_no_click = eniac_d_visits - button_d"
   ]
  },
  {
   "cell_type": "code",
   "execution_count": 11,
   "metadata": {},
   "outputs": [
    {
     "data": {
      "text/html": [
       "<div>\n",
       "<style scoped>\n",
       "    .dataframe tbody tr th:only-of-type {\n",
       "        vertical-align: middle;\n",
       "    }\n",
       "\n",
       "    .dataframe tbody tr th {\n",
       "        vertical-align: top;\n",
       "    }\n",
       "\n",
       "    .dataframe thead th {\n",
       "        text-align: right;\n",
       "    }\n",
       "</style>\n",
       "<table border=\"1\" class=\"dataframe\">\n",
       "  <thead>\n",
       "    <tr style=\"text-align: right;\">\n",
       "      <th></th>\n",
       "      <th>Version_A</th>\n",
       "      <th>Version_B</th>\n",
       "      <th>Version_C</th>\n",
       "      <th>Version_D</th>\n",
       "    </tr>\n",
       "  </thead>\n",
       "  <tbody>\n",
       "    <tr>\n",
       "      <th>Click</th>\n",
       "      <td>512</td>\n",
       "      <td>281</td>\n",
       "      <td>527</td>\n",
       "      <td>193</td>\n",
       "    </tr>\n",
       "    <tr>\n",
       "      <th>No-click</th>\n",
       "      <td>24814</td>\n",
       "      <td>24466</td>\n",
       "      <td>24349</td>\n",
       "      <td>25040</td>\n",
       "    </tr>\n",
       "  </tbody>\n",
       "</table>\n",
       "</div>"
      ],
      "text/plain": [
       "          Version_A  Version_B  Version_C  Version_D\n",
       "Click           512        281        527        193\n",
       "No-click      24814      24466      24349      25040"
      ]
     },
     "execution_count": 11,
     "metadata": {},
     "output_type": "execute_result"
    }
   ],
   "source": [
    "# create contingency table\n",
    "clicks = [button_a, button_b, button_c, button_d]\n",
    "noclicks = [eniac_a_no_click, eniac_b_no_click, eniac_c_no_click, eniac_d_no_click]\n",
    "\n",
    "observed_results = pd.DataFrame(data = [clicks, noclicks],\n",
    "                                columns = [\"Version_A\", \"Version_B\", \"Version_C\", \"Version_D\"],\n",
    "                                index = [\"Click\", \"No-click\"])\n",
    "\n",
    "observed_results"
   ]
  },
  {
   "cell_type": "code",
   "execution_count": 10,
   "metadata": {},
   "outputs": [
    {
     "data": {
      "text/html": [
       "<div>\n",
       "<style scoped>\n",
       "    .dataframe tbody tr th:only-of-type {\n",
       "        vertical-align: middle;\n",
       "    }\n",
       "\n",
       "    .dataframe tbody tr th {\n",
       "        vertical-align: top;\n",
       "    }\n",
       "\n",
       "    .dataframe thead th {\n",
       "        text-align: right;\n",
       "    }\n",
       "</style>\n",
       "<table border=\"1\" class=\"dataframe\">\n",
       "  <thead>\n",
       "    <tr style=\"text-align: right;\">\n",
       "      <th></th>\n",
       "      <th>rates</th>\n",
       "      <th>names</th>\n",
       "    </tr>\n",
       "  </thead>\n",
       "  <tbody>\n",
       "    <tr>\n",
       "      <th>2</th>\n",
       "      <td>0.0212</td>\n",
       "      <td>Version_C</td>\n",
       "    </tr>\n",
       "    <tr>\n",
       "      <th>0</th>\n",
       "      <td>0.0202</td>\n",
       "      <td>Version_A</td>\n",
       "    </tr>\n",
       "    <tr>\n",
       "      <th>1</th>\n",
       "      <td>0.0114</td>\n",
       "      <td>Version_B</td>\n",
       "    </tr>\n",
       "    <tr>\n",
       "      <th>3</th>\n",
       "      <td>0.0076</td>\n",
       "      <td>Version_D</td>\n",
       "    </tr>\n",
       "  </tbody>\n",
       "</table>\n",
       "</div>"
      ],
      "text/plain": [
       "   rates      names\n",
       "2 0.0212  Version_C\n",
       "0 0.0202  Version_A\n",
       "1 0.0114  Version_B\n",
       "3 0.0076  Version_D"
      ]
     },
     "execution_count": 10,
     "metadata": {},
     "output_type": "execute_result"
    }
   ],
   "source": [
    "# look at click-through rates\n",
    "eniac_a_ctr = button_a / eniac_a_visits\n",
    "eniac_b_ctr = button_b / eniac_b_visits\n",
    "eniac_c_ctr = button_c / eniac_c_visits\n",
    "eniac_d_ctr = button_d / eniac_d_visits\n",
    "\n",
    "# display as DataFrame\n",
    "rates = [eniac_a_ctr, eniac_b_ctr, eniac_c_ctr, eniac_d_ctr]\n",
    "names = [\"Version_A\", \"Version_B\", \"Version_C\", \"Version_D\"]\n",
    "\n",
    "ctr_df = pd.DataFrame({\"rates\": rates, \"names\": names})\n",
    "ctr_df.sort_values(\"rates\", ascending=False)"
   ]
  },
  {
   "cell_type": "markdown",
   "metadata": {},
   "source": [
    "### Calculate chi-sqaured test"
   ]
  },
  {
   "cell_type": "code",
   "execution_count": 12,
   "metadata": {},
   "outputs": [],
   "source": [
    "chisq, pvalue, df, expected = stats.chi2_contingency(observed_results)"
   ]
  },
  {
   "cell_type": "code",
   "execution_count": 13,
   "metadata": {},
   "outputs": [
    {
     "data": {
      "text/plain": [
       "np.float64(2.716121660786871e-48)"
      ]
     },
     "execution_count": 13,
     "metadata": {},
     "output_type": "execute_result"
    }
   ],
   "source": [
    "pvalue"
   ]
  },
  {
   "cell_type": "markdown",
   "metadata": {},
   "source": [
    "### Interpret test result"
   ]
  },
  {
   "cell_type": "code",
   "execution_count": 14,
   "metadata": {},
   "outputs": [
    {
     "name": "stdout",
     "output_type": "stream",
     "text": [
      "Reject the null hypothesis\n"
     ]
    }
   ],
   "source": [
    "if pvalue > alpha:\n",
    "  print(\"Do not reject the null hypothesis\")\n",
    "else:\n",
    "  print(\"Reject the null hypothesis\")"
   ]
  },
  {
   "cell_type": "markdown",
   "metadata": {},
   "source": [
    "H0 needs to be rejected, so at least one of the versions performed significantly different (better or worse) than the others"
   ]
  },
  {
   "cell_type": "markdown",
   "metadata": {},
   "source": [
    "### Investigate further to find possible winner"
   ]
  },
  {
   "cell_type": "markdown",
   "metadata": {},
   "source": [
    "6 possible dual tests need to be performed:\n",
    "- Version A - Version B\n",
    "- Version A - Version C\n",
    "- Version A - Version D\n",
    "- Version B - Version C\n",
    "- Version B - Version D \n",
    "- Version C - Version D\n"
   ]
  },
  {
   "cell_type": "code",
   "execution_count": 16,
   "metadata": {},
   "outputs": [
    {
     "data": {
      "text/plain": [
       "0.008333333333333333"
      ]
     },
     "execution_count": 16,
     "metadata": {},
     "output_type": "execute_result"
    }
   ],
   "source": [
    "# adjust alpha\n",
    "possible_combinations = 6\n",
    "alpha_2 = alpha/possible_combinations\n",
    "alpha_2"
   ]
  },
  {
   "cell_type": "markdown",
   "metadata": {},
   "source": [
    "perform dual tests"
   ]
  },
  {
   "cell_type": "code",
   "execution_count": 19,
   "metadata": {},
   "outputs": [
    {
     "name": "stdout",
     "output_type": "stream",
     "text": [
      "H0 can be rejected\n"
     ]
    }
   ],
   "source": [
    "# A vs B\n",
    "cont_AB = observed_results[['Version_A','Version_B']]\n",
    "\n",
    "chisqrt_AB, pvalue_AB, df_AB, expected_AB = stats.chi2_contingency(cont_AB)\n",
    "\n",
    "if pvalue_AB < alpha_2:\n",
    "    print('H0 can be rejected')\n",
    "else:\n",
    "    print('H0 cannot be rejected')"
   ]
  },
  {
   "cell_type": "code",
   "execution_count": 20,
   "metadata": {},
   "outputs": [
    {
     "name": "stdout",
     "output_type": "stream",
     "text": [
      "H0 cannot be rejected\n"
     ]
    }
   ],
   "source": [
    "# A vs C\n",
    "cont_AC = observed_results[['Version_A','Version_C']]\n",
    "\n",
    "chisqrt_AC, pvalue_AC, df_AC, expected_AC = stats.chi2_contingency(cont_AC)\n",
    "\n",
    "if pvalue_AC < alpha_2:\n",
    "    print('H0 can be rejected')\n",
    "else:\n",
    "    print('H0 cannot be rejected')"
   ]
  },
  {
   "cell_type": "code",
   "execution_count": 21,
   "metadata": {},
   "outputs": [
    {
     "name": "stdout",
     "output_type": "stream",
     "text": [
      "H0 can be rejected\n"
     ]
    }
   ],
   "source": [
    "# A vs D\n",
    "cont_AD = observed_results[['Version_A','Version_D']]\n",
    "\n",
    "chisqrt_AD, pvalue_AD, df_AD, expected_AD = stats.chi2_contingency(cont_AD)\n",
    "\n",
    "if pvalue_AD < alpha_2:\n",
    "    print('H0 can be rejected')\n",
    "else:\n",
    "    print('H0 cannot be rejected')"
   ]
  },
  {
   "cell_type": "code",
   "execution_count": 23,
   "metadata": {},
   "outputs": [
    {
     "name": "stdout",
     "output_type": "stream",
     "text": [
      "H0 can be rejected\n"
     ]
    }
   ],
   "source": [
    "# B vs C\n",
    "cont_BC = observed_results[['Version_B','Version_C']]\n",
    "\n",
    "chisqrt_BC, pvalue_BC, df_BC, expected_BC = stats.chi2_contingency(cont_BC)\n",
    "\n",
    "if pvalue_BC < alpha_2:\n",
    "    print('H0 can be rejected')\n",
    "else:\n",
    "    print('H0 cannot be rejected')"
   ]
  },
  {
   "cell_type": "code",
   "execution_count": 24,
   "metadata": {},
   "outputs": [
    {
     "name": "stdout",
     "output_type": "stream",
     "text": [
      "H0 can be rejected\n"
     ]
    }
   ],
   "source": [
    "# B vs D\n",
    "cont_BD = observed_results[['Version_B','Version_D']]\n",
    "\n",
    "chisqrt_BD, pvalue_BD, df_BD, expected_BD = stats.chi2_contingency(cont_BD)\n",
    "\n",
    "if pvalue_BD < alpha_2:\n",
    "    print('H0 can be rejected')\n",
    "else:\n",
    "    print('H0 cannot be rejected')"
   ]
  },
  {
   "cell_type": "code",
   "execution_count": 25,
   "metadata": {},
   "outputs": [
    {
     "name": "stdout",
     "output_type": "stream",
     "text": [
      "H0 can be rejected\n"
     ]
    }
   ],
   "source": [
    "# C vs D\n",
    "cont_CD = observed_results[['Version_C','Version_D']]\n",
    "\n",
    "chisqrt_CD, pvalue_CD, df_CD, expected_CD = stats.chi2_contingency(cont_CD)\n",
    "\n",
    "if pvalue_CD < alpha_2:\n",
    "    print('H0 can be rejected')\n",
    "else:\n",
    "    print('H0 cannot be rejected')"
   ]
  },
  {
   "cell_type": "markdown",
   "metadata": {},
   "source": [
    "There is a statistical difference between the CTR of the different versions\n",
    "- in detail:\n",
    "    - no significant difference between A & C\n",
    "    - rest has a statistical significant difference"
   ]
  },
  {
   "cell_type": "markdown",
   "metadata": {},
   "source": [
    "### Interpretation (incl additional info given)"
   ]
  },
  {
   "cell_type": "markdown",
   "metadata": {},
   "source": [
    "#### additional info:"
   ]
  },
  {
   "attachments": {
    "image.png": {
     "image/png": "[encoded data removed]"
    }
   },
   "cell_type": "markdown",
   "metadata": {},
   "source": [
    "![image.png](attachment:image.png)"
   ]
  },
  {
   "attachments": {
    "image.png": {
     "image/png": "[encoded data removed]"
    }
   },
   "cell_type": "markdown",
   "metadata": {},
   "source": [
    "![image.png](attachment:image.png)"
   ]
  },
  {
   "cell_type": "markdown",
   "metadata": {},
   "source": [
    "#### conclusion"
   ]
  },
  {
   "cell_type": "markdown",
   "metadata": {},
   "source": [
    "Version A best option, highest CTR (no stat significance between A & C) , but low drop-off rate for Version A. However, high hompage return rate... \n",
    "\n",
    "Since A is the \"old\" version, no cost occur for changing when we keep it. Therefore best to leave the website as it is.\n",
    "\n",
    "Red seems not to have a positive effect"
   ]
  }
 ],
 "metadata": {
  "kernelspec": {
   "display_name": "Python 3",
   "language": "python",
   "name": "python3"
  },
  "language_info": {
   "codemirror_mode": {
    "name": "ipython",
    "version": 3
   },
   "file_extension": ".py",
   "mimetype": "text/x-python",
   "name": "python",
   "nbconvert_exporter": "python",
   "pygments_lexer": "ipython3",
   "version": "3.13.0"
  }
 },
 "nbformat": 4,
 "nbformat_minor": 2
}
